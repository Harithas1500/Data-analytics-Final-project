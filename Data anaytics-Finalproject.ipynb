{
 "cells": [
  {
   "cell_type": "code",
   "execution_count": 12,
   "id": "ce46229e-7ffb-4d58-82d3-b9cba6bb3dc4",
   "metadata": {},
   "outputs": [],
   "source": [
    "# ## Data Analytics Final Project\n",
    "# ## Topic: Superstore Sales Analysis\n"
   ]
  },
  {
   "cell_type": "code",
   "execution_count": 13,
   "id": "968915ed-2c83-4888-bab3-33b27c5dbc7e",
   "metadata": {},
   "outputs": [],
   "source": [
    "# 📊 Data Analytics Final Project\n",
    "# Topic: \"Profitability by Product or Region\"\n",
    "\n",
    "import pandas as pd\n",
    "import numpy as np\n",
    "import matplotlib.pyplot as plt\n",
    "import seaborn as sns\n",
    "\n",
    "pd.set_option('display.max_columns', None)\n",
    "pd.set_option('display.float_format', lambda x: '%.2f' % x)\n",
    "\n"
   ]
  },
  {
   "cell_type": "code",
   "execution_count": 14,
   "id": "12b723a7-560d-4b0b-9dc4-c89d3eececb9",
   "metadata": {},
   "outputs": [
    {
     "data": {
      "text/html": [
       "<div>\n",
       "<style scoped>\n",
       "    .dataframe tbody tr th:only-of-type {\n",
       "        vertical-align: middle;\n",
       "    }\n",
       "\n",
       "    .dataframe tbody tr th {\n",
       "        vertical-align: top;\n",
       "    }\n",
       "\n",
       "    .dataframe thead th {\n",
       "        text-align: right;\n",
       "    }\n",
       "</style>\n",
       "<table border=\"1\" class=\"dataframe\">\n",
       "  <thead>\n",
       "    <tr style=\"text-align: right;\">\n",
       "      <th></th>\n",
       "      <th>Row_ID</th>\n",
       "      <th>Order_ID</th>\n",
       "      <th>Order_Date</th>\n",
       "      <th>Ship_Date</th>\n",
       "      <th>Ship_Mode</th>\n",
       "      <th>Customer_ID</th>\n",
       "      <th>Customer_Name</th>\n",
       "      <th>Segment</th>\n",
       "      <th>Country</th>\n",
       "      <th>City</th>\n",
       "      <th>State</th>\n",
       "      <th>Postal_Code</th>\n",
       "      <th>Region</th>\n",
       "      <th>Product_ID</th>\n",
       "      <th>Category</th>\n",
       "      <th>Sub_Category</th>\n",
       "      <th>Product_Name</th>\n",
       "      <th>Sales</th>\n",
       "    </tr>\n",
       "  </thead>\n",
       "  <tbody>\n",
       "    <tr>\n",
       "      <th>0</th>\n",
       "      <td>1</td>\n",
       "      <td>CA-2017-152156</td>\n",
       "      <td>8/11/2017</td>\n",
       "      <td>11/11/2017</td>\n",
       "      <td>Second Class</td>\n",
       "      <td>CG-12520</td>\n",
       "      <td>Claire Gute</td>\n",
       "      <td>Consumer</td>\n",
       "      <td>United States</td>\n",
       "      <td>Henderson</td>\n",
       "      <td>Kentucky</td>\n",
       "      <td>42420.00</td>\n",
       "      <td>South</td>\n",
       "      <td>FUR-BO-10001798</td>\n",
       "      <td>Furniture</td>\n",
       "      <td>Bookcases</td>\n",
       "      <td>Bush Somerset Collection Bookcase</td>\n",
       "      <td>261.96</td>\n",
       "    </tr>\n",
       "    <tr>\n",
       "      <th>1</th>\n",
       "      <td>2</td>\n",
       "      <td>CA-2017-152156</td>\n",
       "      <td>8/11/2017</td>\n",
       "      <td>11/11/2017</td>\n",
       "      <td>Second Class</td>\n",
       "      <td>CG-12520</td>\n",
       "      <td>Claire Gute</td>\n",
       "      <td>Consumer</td>\n",
       "      <td>United States</td>\n",
       "      <td>Henderson</td>\n",
       "      <td>Kentucky</td>\n",
       "      <td>42420.00</td>\n",
       "      <td>South</td>\n",
       "      <td>FUR-CH-10000454</td>\n",
       "      <td>Furniture</td>\n",
       "      <td>Chairs</td>\n",
       "      <td>Hon Deluxe Fabric Upholstered Stacking Chairs,...</td>\n",
       "      <td>731.94</td>\n",
       "    </tr>\n",
       "    <tr>\n",
       "      <th>2</th>\n",
       "      <td>3</td>\n",
       "      <td>CA-2017-138688</td>\n",
       "      <td>12/6/2017</td>\n",
       "      <td>16/06/2017</td>\n",
       "      <td>Second Class</td>\n",
       "      <td>DV-13045</td>\n",
       "      <td>Darrin Van Huff</td>\n",
       "      <td>Corporate</td>\n",
       "      <td>United States</td>\n",
       "      <td>Los Angeles</td>\n",
       "      <td>California</td>\n",
       "      <td>90036.00</td>\n",
       "      <td>West</td>\n",
       "      <td>OFF-LA-10000240</td>\n",
       "      <td>Office Supplies</td>\n",
       "      <td>Labels</td>\n",
       "      <td>Self-Adhesive Address Labels for Typewriters b...</td>\n",
       "      <td>14.62</td>\n",
       "    </tr>\n",
       "    <tr>\n",
       "      <th>3</th>\n",
       "      <td>4</td>\n",
       "      <td>US-2016-108966</td>\n",
       "      <td>11/10/2016</td>\n",
       "      <td>18/10/2016</td>\n",
       "      <td>Standard Class</td>\n",
       "      <td>SO-20335</td>\n",
       "      <td>Sean O Donnel</td>\n",
       "      <td>Consumer</td>\n",
       "      <td>United States</td>\n",
       "      <td>Fort Lauderdale</td>\n",
       "      <td>Florida</td>\n",
       "      <td>33311.00</td>\n",
       "      <td>South</td>\n",
       "      <td>FUR-TA-10000577</td>\n",
       "      <td>Furniture</td>\n",
       "      <td>Tables</td>\n",
       "      <td>Bretford CR4500 Series Slim Rectangular Table</td>\n",
       "      <td>957.58</td>\n",
       "    </tr>\n",
       "    <tr>\n",
       "      <th>4</th>\n",
       "      <td>5</td>\n",
       "      <td>US-2016-108966</td>\n",
       "      <td>11/10/2016</td>\n",
       "      <td>18/10/2016</td>\n",
       "      <td>Standard Class</td>\n",
       "      <td>SO-20335</td>\n",
       "      <td>Sean O Donnel</td>\n",
       "      <td>Consumer</td>\n",
       "      <td>United States</td>\n",
       "      <td>Fort Lauderdale</td>\n",
       "      <td>Florida</td>\n",
       "      <td>33311.00</td>\n",
       "      <td>South</td>\n",
       "      <td>OFF-ST-10000760</td>\n",
       "      <td>Office Supplies</td>\n",
       "      <td>Storage</td>\n",
       "      <td>Eldon Fold N Roll Cart System</td>\n",
       "      <td>22.37</td>\n",
       "    </tr>\n",
       "  </tbody>\n",
       "</table>\n",
       "</div>"
      ],
      "text/plain": [
       "   Row_ID        Order_ID  Order_Date   Ship_Date       Ship_Mode Customer_ID  \\\n",
       "0       1  CA-2017-152156   8/11/2017  11/11/2017    Second Class    CG-12520   \n",
       "1       2  CA-2017-152156   8/11/2017  11/11/2017    Second Class    CG-12520   \n",
       "2       3  CA-2017-138688   12/6/2017  16/06/2017    Second Class    DV-13045   \n",
       "3       4  US-2016-108966  11/10/2016  18/10/2016  Standard Class    SO-20335   \n",
       "4       5  US-2016-108966  11/10/2016  18/10/2016  Standard Class    SO-20335   \n",
       "\n",
       "     Customer_Name    Segment        Country             City       State  \\\n",
       "0      Claire Gute   Consumer  United States        Henderson    Kentucky   \n",
       "1      Claire Gute   Consumer  United States        Henderson    Kentucky   \n",
       "2  Darrin Van Huff  Corporate  United States      Los Angeles  California   \n",
       "3    Sean O Donnel   Consumer  United States  Fort Lauderdale     Florida   \n",
       "4    Sean O Donnel   Consumer  United States  Fort Lauderdale     Florida   \n",
       "\n",
       "   Postal_Code Region       Product_ID         Category Sub_Category  \\\n",
       "0     42420.00  South  FUR-BO-10001798        Furniture    Bookcases   \n",
       "1     42420.00  South  FUR-CH-10000454        Furniture       Chairs   \n",
       "2     90036.00   West  OFF-LA-10000240  Office Supplies       Labels   \n",
       "3     33311.00  South  FUR-TA-10000577        Furniture       Tables   \n",
       "4     33311.00  South  OFF-ST-10000760  Office Supplies      Storage   \n",
       "\n",
       "                                        Product_Name  Sales  \n",
       "0                  Bush Somerset Collection Bookcase 261.96  \n",
       "1  Hon Deluxe Fabric Upholstered Stacking Chairs,... 731.94  \n",
       "2  Self-Adhesive Address Labels for Typewriters b...  14.62  \n",
       "3      Bretford CR4500 Series Slim Rectangular Table 957.58  \n",
       "4                      Eldon Fold N Roll Cart System  22.37  "
      ]
     },
     "execution_count": 14,
     "metadata": {},
     "output_type": "execute_result"
    }
   ],
   "source": [
    "\n",
    "# Load the CSV file from  folder\n",
    "import pandas as pd\n",
    "\n",
    "file_path = r\"C:\\Users\\HP VICTUS\\OneDrive\\Desktop\\python\\final project\\superstore_final_dataset (1).csv\"\n",
    "\n",
    "df = pd.read_csv(file_path, encoding=\"latin1\")  # or encoding=\"cp1252\" if latin1 fails\n",
    "df.head()\n",
    "\n",
    "\n",
    "\n",
    "\n",
    "\n"
   ]
  },
  {
   "cell_type": "code",
   "execution_count": 15,
   "id": "0f27f8de-9fb7-4911-b979-3d41849ee169",
   "metadata": {},
   "outputs": [
    {
     "name": "stdout",
     "output_type": "stream",
     "text": [
      "<class 'pandas.core.frame.DataFrame'>\n",
      "RangeIndex: 9800 entries, 0 to 9799\n",
      "Data columns (total 18 columns):\n",
      " #   Column         Non-Null Count  Dtype  \n",
      "---  ------         --------------  -----  \n",
      " 0   Row_ID         9800 non-null   int64  \n",
      " 1   Order_ID       9800 non-null   object \n",
      " 2   Order_Date     9800 non-null   object \n",
      " 3   Ship_Date      9800 non-null   object \n",
      " 4   Ship_Mode      9800 non-null   object \n",
      " 5   Customer_ID    9800 non-null   object \n",
      " 6   Customer_Name  9800 non-null   object \n",
      " 7   Segment        9800 non-null   object \n",
      " 8   Country        9800 non-null   object \n",
      " 9   City           9800 non-null   object \n",
      " 10  State          9800 non-null   object \n",
      " 11  Postal_Code    9789 non-null   float64\n",
      " 12  Region         9800 non-null   object \n",
      " 13  Product_ID     9800 non-null   object \n",
      " 14  Category       9800 non-null   object \n",
      " 15  Sub_Category   9800 non-null   object \n",
      " 16  Product_Name   9800 non-null   object \n",
      " 17  Sales          9800 non-null   float64\n",
      "dtypes: float64(2), int64(1), object(15)\n",
      "memory usage: 1.3+ MB\n"
     ]
    },
    {
     "data": {
      "text/html": [
       "<div>\n",
       "<style scoped>\n",
       "    .dataframe tbody tr th:only-of-type {\n",
       "        vertical-align: middle;\n",
       "    }\n",
       "\n",
       "    .dataframe tbody tr th {\n",
       "        vertical-align: top;\n",
       "    }\n",
       "\n",
       "    .dataframe thead th {\n",
       "        text-align: right;\n",
       "    }\n",
       "</style>\n",
       "<table border=\"1\" class=\"dataframe\">\n",
       "  <thead>\n",
       "    <tr style=\"text-align: right;\">\n",
       "      <th></th>\n",
       "      <th>Row_ID</th>\n",
       "      <th>Postal_Code</th>\n",
       "      <th>Sales</th>\n",
       "    </tr>\n",
       "  </thead>\n",
       "  <tbody>\n",
       "    <tr>\n",
       "      <th>count</th>\n",
       "      <td>9800.00</td>\n",
       "      <td>9789.00</td>\n",
       "      <td>9800.00</td>\n",
       "    </tr>\n",
       "    <tr>\n",
       "      <th>mean</th>\n",
       "      <td>4900.50</td>\n",
       "      <td>55273.32</td>\n",
       "      <td>230.77</td>\n",
       "    </tr>\n",
       "    <tr>\n",
       "      <th>std</th>\n",
       "      <td>2829.16</td>\n",
       "      <td>32041.22</td>\n",
       "      <td>626.65</td>\n",
       "    </tr>\n",
       "    <tr>\n",
       "      <th>min</th>\n",
       "      <td>1.00</td>\n",
       "      <td>1040.00</td>\n",
       "      <td>0.44</td>\n",
       "    </tr>\n",
       "    <tr>\n",
       "      <th>25%</th>\n",
       "      <td>2450.75</td>\n",
       "      <td>23223.00</td>\n",
       "      <td>17.25</td>\n",
       "    </tr>\n",
       "    <tr>\n",
       "      <th>50%</th>\n",
       "      <td>4900.50</td>\n",
       "      <td>58103.00</td>\n",
       "      <td>54.49</td>\n",
       "    </tr>\n",
       "    <tr>\n",
       "      <th>75%</th>\n",
       "      <td>7350.25</td>\n",
       "      <td>90008.00</td>\n",
       "      <td>210.61</td>\n",
       "    </tr>\n",
       "    <tr>\n",
       "      <th>max</th>\n",
       "      <td>9800.00</td>\n",
       "      <td>99301.00</td>\n",
       "      <td>22638.48</td>\n",
       "    </tr>\n",
       "  </tbody>\n",
       "</table>\n",
       "</div>"
      ],
      "text/plain": [
       "       Row_ID  Postal_Code    Sales\n",
       "count 9800.00      9789.00  9800.00\n",
       "mean  4900.50     55273.32   230.77\n",
       "std   2829.16     32041.22   626.65\n",
       "min      1.00      1040.00     0.44\n",
       "25%   2450.75     23223.00    17.25\n",
       "50%   4900.50     58103.00    54.49\n",
       "75%   7350.25     90008.00   210.61\n",
       "max   9800.00     99301.00 22638.48"
      ]
     },
     "execution_count": 15,
     "metadata": {},
     "output_type": "execute_result"
    }
   ],
   "source": [
    "#checkinformation\n",
    "df.info()\n",
    "df.describe()\n"
   ]
  },
  {
   "cell_type": "code",
   "execution_count": 16,
   "id": "9563633d-aee9-467b-b81e-bf055f0810ab",
   "metadata": {},
   "outputs": [
    {
     "data": {
      "text/plain": [
       "Row_ID            0\n",
       "Order_ID          0\n",
       "Order_Date        0\n",
       "Ship_Date         0\n",
       "Ship_Mode         0\n",
       "Customer_ID       0\n",
       "Customer_Name     0\n",
       "Segment           0\n",
       "Country           0\n",
       "City              0\n",
       "State             0\n",
       "Postal_Code      11\n",
       "Region            0\n",
       "Product_ID        0\n",
       "Category          0\n",
       "Sub_Category      0\n",
       "Product_Name      0\n",
       "Sales             0\n",
       "dtype: int64"
      ]
     },
     "execution_count": 16,
     "metadata": {},
     "output_type": "execute_result"
    }
   ],
   "source": [
    "#check missing values\n",
    "df.isnull().sum()\n"
   ]
  },
  {
   "cell_type": "code",
   "execution_count": 17,
   "id": "2fdc8a02-4234-4c19-9794-8dda4fac5ca1",
   "metadata": {},
   "outputs": [],
   "source": [
    "# Data Cleaning\n",
    "df.drop_duplicates(inplace=True)\n",
    "df.columns = df.columns.str.strip()\n"
   ]
  },
  {
   "cell_type": "code",
   "execution_count": 18,
   "id": "8efc2be4-0137-475f-b105-04050c209579",
   "metadata": {},
   "outputs": [
    {
     "name": "stdout",
     "output_type": "stream",
     "text": [
      "Number of duplicate rows: 0\n"
     ]
    }
   ],
   "source": [
    "#  Check for duplicates\n",
    "duplicates_count = df.duplicated().sum()\n",
    "print(f\"Number of duplicate rows: {duplicates_count}\")\n",
    "if duplicates_count > 0:\n",
    "    df = df.drop_duplicates()"
   ]
  },
  {
   "cell_type": "code",
   "execution_count": 19,
   "id": "528a179d-eb7a-423f-ba86-6744211c76aa",
   "metadata": {},
   "outputs": [
    {
     "name": "stdout",
     "output_type": "stream",
     "text": [
      "\n",
      "Missing values in each column:\n",
      "Row_ID            0\n",
      "Order_ID          0\n",
      "Order_Date        0\n",
      "Ship_Date         0\n",
      "Ship_Mode         0\n",
      "Customer_ID       0\n",
      "Customer_Name     0\n",
      "Segment           0\n",
      "Country           0\n",
      "City              0\n",
      "State             0\n",
      "Postal_Code      11\n",
      "Region            0\n",
      "Product_ID        0\n",
      "Category          0\n",
      "Sub_Category      0\n",
      "Product_Name      0\n",
      "Sales             0\n",
      "dtype: int64\n"
     ]
    }
   ],
   "source": [
    "#  Check for missing values\n",
    "missing_values = df.isnull().sum()\n",
    "print(\"\\nMissing values in each column:\")\n",
    "print(missing_values)"
   ]
  },
  {
   "cell_type": "code",
   "execution_count": 20,
   "id": "fd0c3f39-e676-43da-99f6-126a350ab39d",
   "metadata": {},
   "outputs": [
    {
     "name": "stdout",
     "output_type": "stream",
     "text": [
      "\n",
      "Dataset statistics:\n",
      "       Row_ID  Postal_Code    Sales\n",
      "count 9800.00      9789.00  9800.00\n",
      "mean  4900.50     55273.32   230.77\n",
      "std   2829.16     32041.22   626.65\n",
      "min      1.00      1040.00     0.44\n",
      "25%   2450.75     23223.00    17.25\n",
      "50%   4900.50     58103.00    54.49\n",
      "75%   7350.25     90008.00   210.61\n",
      "max   9800.00     99301.00 22638.48\n"
     ]
    }
   ],
   "source": [
    "#  Dataset statistics\n",
    "print(\"\\nDataset statistics:\")\n",
    "print(df.describe())"
   ]
  },
  {
   "cell_type": "code",
   "execution_count": 21,
   "id": "0c81b1e0-ab2a-4478-9b0a-9cb528b2bc30",
   "metadata": {},
   "outputs": [],
   "source": [
    "#  Create a Derived Column\n",
    "if 'Profit' in df.columns and 'Sales' in df.columns:\n",
    "    df['Profit Margin %'] = (df['Profit'] / df['Sales']) * 100"
   ]
  },
  {
   "cell_type": "code",
   "execution_count": 22,
   "id": "ef336035-e3d5-4692-aedd-7979b798bde2",
   "metadata": {},
   "outputs": [
    {
     "data": {
      "image/png": "[encoded data removed]",
      "text/plain": [
       "<Figure size 600x300 with 1 Axes>"
      ]
     },
     "metadata": {},
     "output_type": "display_data"
    },
    {
     "data": {
      "image/png": "[encoded data removed]",
      "text/plain": [
       "<Figure size 600x300 with 1 Axes>"
      ]
     },
     "metadata": {},
     "output_type": "display_data"
    },
    {
     "data": {
      "image/png": "[encoded data removed]",
      "text/plain": [
       "<Figure size 600x300 with 1 Axes>"
      ]
     },
     "metadata": {},
     "output_type": "display_data"
    }
   ],
   "source": [
    "#  Outlier Check \n",
    "import matplotlib.pyplot as plt\n",
    "import seaborn as sns\n",
    "import numpy as np\n",
    "\n",
    "numeric_cols = df.select_dtypes(include=[np.number]).columns\n",
    "\n",
    "for col in numeric_cols:\n",
    "    plt.figure(figsize=(6, 3))\n",
    "    sns.boxplot(x=df[col])\n",
    "    plt.title(f\"Outlier Check: {col}\")\n",
    "    plt.show()"
   ]
  },
  {
   "cell_type": "code",
   "execution_count": 23,
   "id": "171153e8-1905-4183-a61e-37e453b849d5",
   "metadata": {},
   "outputs": [
    {
     "name": "stdout",
     "output_type": "stream",
     "text": [
      "\n",
      "Data shape after cleaning: (9800, 18)\n"
     ]
    }
   ],
   "source": [
    "#  Final dataset shape\n",
    "print(f\"\\nData shape after cleaning: {df.shape}\")"
   ]
  },
  {
   "cell_type": "code",
   "execution_count": null,
   "id": "93dd09f3-62ce-46e2-a759-c7cf109d5b3a",
   "metadata": {},
   "outputs": [],
   "source": []
  }
 ],
 "metadata": {
  "kernelspec": {
   "display_name": "Python [conda env:base] *",
   "language": "python",
   "name": "conda-base-py"
  },
  "language_info": {
   "codemirror_mode": {
    "name": "ipython",
    "version": 3
   },
   "file_extension": ".py",
   "mimetype": "text/x-python",
   "name": "python",
   "nbconvert_exporter": "python",
   "pygments_lexer": "ipython3",
   "version": "3.12.7"
  }
 },
 "nbformat": 4,
 "nbformat_minor": 5
}
